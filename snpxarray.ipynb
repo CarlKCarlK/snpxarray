{
 "cells": [
  {
   "cell_type": "code",
   "execution_count": 1,
   "id": "9a3ffb60",
   "metadata": {},
   "outputs": [
    {
     "name": "stdout",
     "output_type": "stream",
     "text": [
      "✓ xarray 2025.7.1\n",
      "✓ pysnptools <class 'module'>\n"
     ]
    }
   ],
   "source": [
    "# Import required packages (will fail if not available)\n",
    "import xarray as xr\n",
    "import pysnptools\n",
    "\n",
    "print(f\"✓ xarray {xr.__version__}\")\n",
    "print(f\"✓ pysnptools {type(pysnptools)}\")"
   ]
  },
  {
   "cell_type": "code",
   "execution_count": 2,
   "id": "4ff48d94",
   "metadata": {},
   "outputs": [
    {
     "name": "stdout",
     "output_type": "stream",
     "text": [
      "Shape: (300, 1015) (individuals × SNPs)\n"
     ]
    },
    {
     "name": "stderr",
     "output_type": "stream",
     "text": [
      "o:\\Projects\\Science\\snpxarray\\.venv\\Lib\\site-packages\\pysnptools\\snpreader\\bed.py:96: FutureWarning: 'count_A1' was not set. For now it will default to 'False', but in the future it will default to 'True'\n",
      "  warnings.warn(\n"
     ]
    }
   ],
   "source": [
    "# Load sample BED file using PySnpTools\n",
    "from pysnptools.snpreader import Bed\n",
    "from pysnptools.util import example_file\n",
    "\n",
    "bed_file = example_file(\"tests/datasets/all_chr.maf0.001.N300.*\")\n",
    "snp_reader = Bed(bed_file)\n",
    "print(f\"Shape: {snp_reader.shape} (individuals × SNPs)\")"
   ]
  },
  {
   "cell_type": "code",
   "execution_count": 3,
   "id": "bb2bc763",
   "metadata": {},
   "outputs": [
    {
     "name": "stdout",
     "output_type": "stream",
     "text": [
      "Data loaded: (300, 1015)\n"
     ]
    },
    {
     "ename": "ValueError",
     "evalue": "Buffer has wrong number of dimensions (expected 1, got 2)",
     "output_type": "error",
     "traceback": [
      "\u001b[31m---------------------------------------------------------------------------\u001b[39m",
      "\u001b[31mValueError\u001b[39m                                Traceback (most recent call last)",
      "\u001b[36mCell\u001b[39m\u001b[36m \u001b[39m\u001b[32mIn[3]\u001b[39m\u001b[32m, line 25\u001b[39m\n\u001b[32m     18\u001b[39m bp_position = snp_data.pos[:, \u001b[32m2\u001b[39m]\n\u001b[32m     20\u001b[39m \u001b[38;5;66;03m# Create xarray DataArray with full metadata\u001b[39;00m\n\u001b[32m     21\u001b[39m genotypes = xr.DataArray(\n\u001b[32m     22\u001b[39m     snp_data.val,\n\u001b[32m     23\u001b[39m     dims=[\u001b[33m\"\u001b[39m\u001b[33mindividual\u001b[39m\u001b[33m\"\u001b[39m, \u001b[33m\"\u001b[39m\u001b[33msnp\u001b[39m\u001b[33m\"\u001b[39m],\n\u001b[32m     24\u001b[39m     coords={\n\u001b[32m---> \u001b[39m\u001b[32m25\u001b[39m         \u001b[33m\"\u001b[39m\u001b[33mindividual\u001b[39m\u001b[33m\"\u001b[39m: \u001b[43mpd\u001b[49m\u001b[43m.\u001b[49m\u001b[43mMultiIndex\u001b[49m\u001b[43m.\u001b[49m\u001b[43mfrom_tuples\u001b[49m\u001b[43m(\u001b[49m\u001b[43msnp_data\u001b[49m\u001b[43m.\u001b[49m\u001b[43miid\u001b[49m\u001b[43m,\u001b[49m\u001b[43m \u001b[49m\u001b[43mnames\u001b[49m\u001b[43m=\u001b[49m\u001b[43m[\u001b[49m\u001b[33;43m\"\u001b[39;49m\u001b[33;43mfid\u001b[39;49m\u001b[33;43m\"\u001b[39;49m\u001b[43m,\u001b[49m\u001b[43m \u001b[49m\u001b[33;43m\"\u001b[39;49m\u001b[33;43miid\u001b[39;49m\u001b[33;43m\"\u001b[39;49m\u001b[43m]\u001b[49m\u001b[43m)\u001b[49m,\n\u001b[32m     26\u001b[39m         \u001b[33m\"\u001b[39m\u001b[33msnp\u001b[39m\u001b[33m\"\u001b[39m: sid,\n\u001b[32m     27\u001b[39m         \u001b[33m\"\u001b[39m\u001b[33mfid\u001b[39m\u001b[33m\"\u001b[39m: ([\u001b[33m\"\u001b[39m\u001b[33mindividual\u001b[39m\u001b[33m\"\u001b[39m], fid),\n\u001b[32m     28\u001b[39m         \u001b[33m\"\u001b[39m\u001b[33miid\u001b[39m\u001b[33m\"\u001b[39m: ([\u001b[33m\"\u001b[39m\u001b[33mindividual\u001b[39m\u001b[33m\"\u001b[39m], iid),\n\u001b[32m     29\u001b[39m         \u001b[33m\"\u001b[39m\u001b[33mchromosome\u001b[39m\u001b[33m\"\u001b[39m: ([\u001b[33m\"\u001b[39m\u001b[33msnp\u001b[39m\u001b[33m\"\u001b[39m], chromosome),\n\u001b[32m     30\u001b[39m         \u001b[33m\"\u001b[39m\u001b[33mcm_position\u001b[39m\u001b[33m\"\u001b[39m: ([\u001b[33m\"\u001b[39m\u001b[33msnp\u001b[39m\u001b[33m\"\u001b[39m], cm_position),\n\u001b[32m     31\u001b[39m         \u001b[33m\"\u001b[39m\u001b[33mbp_position\u001b[39m\u001b[33m\"\u001b[39m: ([\u001b[33m\"\u001b[39m\u001b[33msnp\u001b[39m\u001b[33m\"\u001b[39m], bp_position),\n\u001b[32m     32\u001b[39m     },\n\u001b[32m     33\u001b[39m     attrs={\n\u001b[32m     34\u001b[39m         \u001b[33m\"\u001b[39m\u001b[33mdescription\u001b[39m\u001b[33m\"\u001b[39m: \u001b[33m\"\u001b[39m\u001b[33mGenotype data from PySnpTools BED file\u001b[39m\u001b[33m\"\u001b[39m,\n\u001b[32m     35\u001b[39m         \u001b[33m\"\u001b[39m\u001b[33mencoding\u001b[39m\u001b[33m\"\u001b[39m: \u001b[33m\"\u001b[39m\u001b[33m0=homozygous ref, 1=heterozygous, 2=homozygous alt, NaN=missing\u001b[39m\u001b[33m\"\u001b[39m,\n\u001b[32m     36\u001b[39m         \u001b[33m\"\u001b[39m\u001b[33msource\u001b[39m\u001b[33m\"\u001b[39m: bed_file,\n\u001b[32m     37\u001b[39m     }\n\u001b[32m     38\u001b[39m )\n\u001b[32m     40\u001b[39m \u001b[38;5;28mprint\u001b[39m(\u001b[33mf\u001b[39m\u001b[33m\"\u001b[39m\u001b[38;5;130;01m\\n\u001b[39;00m\u001b[33mxarray DataArray created:\u001b[39m\u001b[33m\"\u001b[39m)\n\u001b[32m     41\u001b[39m \u001b[38;5;28mprint\u001b[39m(genotypes)\n",
      "\u001b[36mFile \u001b[39m\u001b[32mo:\\Projects\\Science\\snpxarray\\.venv\\Lib\\site-packages\\pandas\\core\\indexes\\multi.py:223\u001b[39m, in \u001b[36mnames_compat.<locals>.new_meth\u001b[39m\u001b[34m(self_or_cls, *args, **kwargs)\u001b[39m\n\u001b[32m    220\u001b[39m \u001b[38;5;28;01mif\u001b[39;00m \u001b[33m\"\u001b[39m\u001b[33mname\u001b[39m\u001b[33m\"\u001b[39m \u001b[38;5;129;01min\u001b[39;00m kwargs:\n\u001b[32m    221\u001b[39m     kwargs[\u001b[33m\"\u001b[39m\u001b[33mnames\u001b[39m\u001b[33m\"\u001b[39m] = kwargs.pop(\u001b[33m\"\u001b[39m\u001b[33mname\u001b[39m\u001b[33m\"\u001b[39m)\n\u001b[32m--> \u001b[39m\u001b[32m223\u001b[39m \u001b[38;5;28;01mreturn\u001b[39;00m \u001b[43mmeth\u001b[49m\u001b[43m(\u001b[49m\u001b[43mself_or_cls\u001b[49m\u001b[43m,\u001b[49m\u001b[43m \u001b[49m\u001b[43m*\u001b[49m\u001b[43margs\u001b[49m\u001b[43m,\u001b[49m\u001b[43m \u001b[49m\u001b[43m*\u001b[49m\u001b[43m*\u001b[49m\u001b[43mkwargs\u001b[49m\u001b[43m)\u001b[49m\n",
      "\u001b[36mFile \u001b[39m\u001b[32mo:\\Projects\\Science\\snpxarray\\.venv\\Lib\\site-packages\\pandas\\core\\indexes\\multi.py:618\u001b[39m, in \u001b[36mMultiIndex.from_tuples\u001b[39m\u001b[34m(cls, tuples, sortorder, names)\u001b[39m\n\u001b[32m    615\u001b[39m     \u001b[38;5;28;01mif\u001b[39;00m \u001b[38;5;28misinstance\u001b[39m(tuples, Index):\n\u001b[32m    616\u001b[39m         tuples = np.asarray(tuples._values)\n\u001b[32m--> \u001b[39m\u001b[32m618\u001b[39m     arrays = \u001b[38;5;28mlist\u001b[39m(\u001b[43mlib\u001b[49m\u001b[43m.\u001b[49m\u001b[43mtuples_to_object_array\u001b[49m\u001b[43m(\u001b[49m\u001b[43mtuples\u001b[49m\u001b[43m)\u001b[49m.T)\n\u001b[32m    619\u001b[39m \u001b[38;5;28;01melif\u001b[39;00m \u001b[38;5;28misinstance\u001b[39m(tuples, \u001b[38;5;28mlist\u001b[39m):\n\u001b[32m    620\u001b[39m     arrays = \u001b[38;5;28mlist\u001b[39m(lib.to_object_array_tuples(tuples).T)\n",
      "\u001b[36mFile \u001b[39m\u001b[32mpandas/_libs/lib.pyx:3056\u001b[39m, in \u001b[36mpandas._libs.lib.tuples_to_object_array\u001b[39m\u001b[34m()\u001b[39m\n",
      "\u001b[31mValueError\u001b[39m: Buffer has wrong number of dimensions (expected 1, got 2)"
     ]
    }
   ],
   "source": [
    "# Read data and convert to xarray with metadata\n",
    "import numpy as np\n",
    "import pandas as pd\n",
    "\n",
    "# Read the actual genotype data\n",
    "snp_data = snp_reader.read()\n",
    "print(f\"Data loaded: {snp_data.val.shape}\")\n",
    "\n",
    "# Extract all metadata\n",
    "# Individual metadata\n",
    "fid = [fid for fid, _iid in snp_data.iid]\n",
    "iid = [iid for _fid, iid in snp_data.iid]\n",
    "\n",
    "# SNP metadata (SNP IDs and positions)\n",
    "sid = snp_data.sid\n",
    "chromosome = snp_data.pos[:, 0]\n",
    "cm_position = snp_data.pos[:, 1]\n",
    "bp_position = snp_data.pos[:, 2]\n",
    "\n",
    "# Create xarray DataArray with full metadata\n",
    "genotypes = xr.DataArray(\n",
    "    snp_data.val,\n",
    "    dims=[\"individual\", \"snp\"],\n",
    "    coords={\n",
    "        \"individual\": pd.MultiIndex.from_tuples(snp_data.iid, names=[\"fid\", \"iid\"]),\n",
    "        \"snp\": sid,\n",
    "        \"fid\": ([\"individual\"], fid),\n",
    "        \"iid\": ([\"individual\"], iid),\n",
    "        \"chromosome\": ([\"snp\"], chromosome),\n",
    "        \"cm_position\": ([\"snp\"], cm_position),\n",
    "        \"bp_position\": ([\"snp\"], bp_position),\n",
    "    },\n",
    "    attrs={\n",
    "        \"description\": \"Genotype data from PySnpTools BED file\",\n",
    "        \"encoding\": \"0=homozygous ref, 1=heterozygous, 2=homozygous alt, NaN=missing\",\n",
    "        \"source\": bed_file,\n",
    "    }\n",
    ")\n",
    "\n",
    "print(f\"\\nxarray DataArray created:\")\n",
    "print(genotypes)"
   ]
  },
  {
   "cell_type": "code",
   "execution_count": null,
   "id": "d0ecc181",
   "metadata": {},
   "outputs": [],
   "source": []
  }
 ],
 "metadata": {
  "kernelspec": {
   "display_name": "snpxarray",
   "language": "python",
   "name": "python3"
  },
  "language_info": {
   "codemirror_mode": {
    "name": "ipython",
    "version": 3
   },
   "file_extension": ".py",
   "mimetype": "text/x-python",
   "name": "python",
   "nbconvert_exporter": "python",
   "pygments_lexer": "ipython3",
   "version": "3.13.0"
  }
 },
 "nbformat": 4,
 "nbformat_minor": 5
}
